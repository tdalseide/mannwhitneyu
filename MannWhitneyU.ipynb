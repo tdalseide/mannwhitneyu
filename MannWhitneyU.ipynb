{
 "cells": [
  {
   "cell_type": "code",
   "execution_count": 187,
   "metadata": {
    "collapsed": false
   },
   "outputs": [],
   "source": [
    "from scipy import stats\n",
    "# fra pakken stats får vi funksjonen MannWhitneyU\n",
    "from numpy import array\n",
    "# Array, eller matrise på norsk, er datatypen MannWhitneyU-funksjonen spiser\n",
    "from numpy import random\n",
    "# Random er ikke nødvendig for sluttkoden, men brukes her for å generere testdata\n",
    "import numpy as np"
   ]
  },
  {
   "cell_type": "code",
   "execution_count": 188,
   "metadata": {
    "collapsed": false
   },
   "outputs": [
    {
     "name": "stdout",
     "output_type": "stream",
     "text": [
      "Gruppe 1: [ 0.09909499  0.32856697  0.13227581  0.93139313  0.47880386]\n",
      "Gruppe 2: [ 0.72151664  0.90218326  0.91715615  0.80823988  0.04635205]\n"
     ]
    }
   ],
   "source": [
    "Gruppe_1 = random.rand(5)\n",
    "Gruppe_2 = random.rand(5)\n",
    "# Lager to matriser kalt Gruppe_1 og Gruppe_2 med tilfeldige tall\n",
    "\n",
    "print(\"Gruppe 1: \" + str(Gruppe_1))\n",
    "print(\"Gruppe 2: \" + str(Gruppe_2))"
   ]
  },
  {
   "cell_type": "code",
   "execution_count": 189,
   "metadata": {
    "collapsed": false
   },
   "outputs": [],
   "source": [
    "\"\"\"Så kommer vi til hoved-delen av funksjonen. Denne tar inn Gruppe_1 og Gruppe_2\"\"\"\n",
    "\n",
    "U,p_verdi = stats.mannwhitneyu(Gruppe_1,Gruppe_2,use_continuity = True)"
   ]
  },
  {
   "cell_type": "code",
   "execution_count": 190,
   "metadata": {
    "collapsed": false
   },
   "outputs": [
    {
     "name": "stdout",
     "output_type": "stream",
     "text": [
      "Mann-Whitney U-verdien for gruppene er: 9.0\n",
      "P-verdien for resultatet antatt en normalfordeling er: 0.265434651984\n"
     ]
    }
   ],
   "source": [
    "print(\"Mann-Whitney U-verdien for gruppene er: \" + str(U))\n",
    "print(\"P-verdien for resultatet antatt en normalfordeling er: \" + str(p_verdi))"
   ]
  },
  {
   "cell_type": "markdown",
   "metadata": {},
   "source": [
    "Denne koden lar deg teste ett av personlighetstrekkene opp mot et annet. Alt du trenger å gjøre er å lage en matrise som heter Gruppe_1 manuelt. La oss si Gruppe 1 scoret 5.3, 7.4, og 5.4. Koden blir da:\n",
    "\n",
    "Gruppe_1 = array([5.3,7.4,5.4])\n",
    "\n",
    "Husk at Mann-Whitney testen trenger arrrays av samme størrelse, altså like mange responser.\n",
    "\n",
    "La oss, for moro skyld, utvide dette til en matrise, der kolonnene er spørsmål, og radene er individer."
   ]
  },
  {
   "cell_type": "code",
   "execution_count": 191,
   "metadata": {
    "collapsed": false
   },
   "outputs": [
    {
     "name": "stdout",
     "output_type": "stream",
     "text": [
      "Gruppe 1: \n",
      "[[ 0.50558234  1.27624561  2.41727837  1.09894941  4.63843756  0.61204906\n",
      "   3.07479346]\n",
      " [ 2.48532658  2.62801426  1.89747089  3.50221065  2.95375182  1.31128043\n",
      "   2.0303815 ]\n",
      " [ 0.56941162  3.83991773  1.03357323  4.47914788  3.66556359  4.32218357\n",
      "   2.43333245]\n",
      " [ 1.85623664  0.14163377  1.21228157  0.04087556  3.10120085  0.46218883\n",
      "   0.21810179]\n",
      " [ 4.88101647  0.50752272  4.14254404  0.3871175   4.21739549  1.91863417\n",
      "   3.46543436]\n",
      " [ 1.67490641  2.45966554  0.59776537  4.00689121  1.63794185  3.01411514\n",
      "   0.51121534]]\n",
      "Gruppe 2: \n",
      "[[ 2.35547905  2.23080062  4.09868401  4.35624871  2.20036581  1.93621164\n",
      "   1.02094338]\n",
      " [ 0.45396221  3.43330053  3.72246334  3.78397622  1.53545986  4.03921847\n",
      "   2.4783421 ]\n",
      " [ 3.315032    1.35025632  2.16199133  4.4038234   0.19280651  3.95569998\n",
      "   3.37714806]\n",
      " [ 3.82867818  4.21154948  0.83053211  0.707983    0.17670289  2.06797826\n",
      "   4.49703159]\n",
      " [ 0.93757586  1.9857964   1.91824736  2.5819779   1.69051101  4.77656319\n",
      "   3.21132216]\n",
      " [ 2.57300181  0.08313662  1.16539183  3.79266283  0.34542582  3.26551031\n",
      "   4.26809792]]\n"
     ]
    }
   ],
   "source": [
    "# Det vil se slik ut.\n",
    "\n",
    "Multi_Gruppe_1 = random.rand(6,7)\n",
    "Multi_Gruppe_2 = random.rand(6,7)\n",
    "\n",
    "Multi_Gruppe_1 = Multi_Gruppe_1 * 5\n",
    "Multi_Gruppe_2 = Multi_Gruppe_2 * 5\n",
    "\n",
    "print(\"Gruppe 1: \\n\" + str(Multi_Gruppe_1))\n",
    "print(\"Gruppe 2: \\n\" + str(Multi_Gruppe_2))\n",
    "\n",
    "# Når du får ordentlige data, kan vi gjøre de om til denne typen matrise."
   ]
  },
  {
   "cell_type": "code",
   "execution_count": 192,
   "metadata": {
    "collapsed": false
   },
   "outputs": [],
   "source": [
    "# Gjør litt magi med matrisene så de ender opp som en liste med par av kollonner. Altså første element i lista er kollonne 1 fra gruppe 1 og 2\n",
    "\n",
    "kollonner_gruppe_1 = Multi_Gruppe_1.T.tolist()\n",
    "kollonner_gruppe_2 = Multi_Gruppe_2.T.tolist()\n",
    "sammenslaatt = list(zip(kollonner_gruppe_1,kollonner_gruppe_2))"
   ]
  },
  {
   "cell_type": "code",
   "execution_count": 193,
   "metadata": {
    "collapsed": false
   },
   "outputs": [
    {
     "name": "stdout",
     "output_type": "stream",
     "text": [
      "Resultater, kollonne 1\n",
      "Mann-Whitney U-verdien for gruppene er: 15.0\n",
      "P-verdien for resultatet antatt en normalfordeling er: 0.344460277902\n",
      "\n",
      "\n",
      "Resultater, kollonne 2\n",
      "Mann-Whitney U-verdien for gruppene er: 16.0\n",
      "P-verdien for resultatet antatt en normalfordeling er: 0.405090618205\n",
      "\n",
      "\n",
      "Resultater, kollonne 3\n",
      "Mann-Whitney U-verdien for gruppene er: 15.0\n",
      "P-verdien for resultatet antatt en normalfordeling er: 0.344460277902\n",
      "\n",
      "\n",
      "Resultater, kollonne 4\n",
      "Mann-Whitney U-verdien for gruppene er: 13.0\n",
      "P-verdien for resultatet antatt en normalfordeling er: 0.235584999245\n",
      "\n",
      "\n",
      "Resultater, kollonne 5\n",
      "Mann-Whitney U-verdien for gruppene er: 2.0\n",
      "P-verdien for resultatet antatt en normalfordeling er: 0.00653261338221\n",
      "\n",
      "\n",
      "Resultater, kollonne 6\n",
      "Mann-Whitney U-verdien for gruppene er: 7.0\n",
      "P-verdien for resultatet antatt en normalfordeling er: 0.0463479012789\n",
      "\n",
      "\n",
      "Resultater, kollonne 7\n",
      "Mann-Whitney U-verdien for gruppene er: 8.0\n",
      "P-verdien for resultatet antatt en normalfordeling er: 0.0641026375152\n",
      "\n",
      "\n"
     ]
    }
   ],
   "source": [
    "# Denne cellen går gjennom alle kollonnene, og skriver ut resultatet av Mann-Whitney\n",
    "i = 1\n",
    "for par in sammenslaatt:\n",
    "    U,p_verdi = stats.mannwhitneyu(par[0],par[1],use_continuity=True)\n",
    "    print(\"Resultater, kollonne \" + str(i))\n",
    "    print(\"Mann-Whitney U-verdien for gruppene er: \" + str(U))\n",
    "    print(\"P-verdien for resultatet antatt en normalfordeling er: \" + str(p_verdi))\n",
    "    print(\"\\n\")\n",
    "    i=i+1"
   ]
  },
  {
   "cell_type": "markdown",
   "metadata": {},
   "source": [
    "Til slutt skal vi se på muligheten for å laste inn data fra CSV (som er den mest nyttige måten å jobbe på)\n",
    "\n",
    "CSVen heter nytestdata.csv og ligger i katalogen sammen med scriptet. Det er i bunn og grunn en tekstfil, som ser slik ut:\n",
    "\n",
    "Utadventhet,Flyte-evne,Dyrevern,Sjonglering,Populasjon\n",
    "3,2,1,10,A\n",
    "7,9,7,2,B\n",
    "4,1,8,5,A\n",
    "5,4,2,9,B\n",
    "9,7,5,10,A\n",
    "6,9,10,7,B\n",
    "9,1,10,2,A\n",
    "2,4,1,3,B\n",
    "1,10,8,6,A\n",
    "8,5,8,8,B\n",
    "7,3,2,5,A\n",
    "8,6,1,2,B\n",
    "\n",
    "Jeg har laget et par egne personlighetsdimensjoner, som jeg mener kan være flotte prediktorer. Den siste kollonnen setter en kandidat i enten gruppe A eller gruppe B."
   ]
  },
  {
   "cell_type": "code",
   "execution_count": 194,
   "metadata": {
    "collapsed": false
   },
   "outputs": [],
   "source": [
    "# importere data fra tekstfil\n",
    "testdata = np.genfromtxt('nytestdata.csv',delimiter=',',dtype='str')"
   ]
  },
  {
   "cell_type": "code",
   "execution_count": 195,
   "metadata": {
    "collapsed": false
   },
   "outputs": [
    {
     "name": "stdout",
     "output_type": "stream",
     "text": [
      "[['3' '4' '9' '9' '1' '7']\n",
      " ['2' '1' '7' '1' '10' '3']\n",
      " ['1' '8' '5' '10' '8' '2']\n",
      " ['10' '5' '10' '2' '6' '5']]\n",
      "[['7' '5' '6' '2' '8' '8']\n",
      " ['9' '4' '9' '4' '5' '6']\n",
      " ['7' '2' '10' '1' '8' '1']\n",
      " ['2' '9' '7' '3' '8' '2']]\n"
     ]
    }
   ],
   "source": [
    "#splitter dataene mellom gruppe A og B, samt fjerner merkingen av gruppetilhørighet.\n",
    "gruppe_A,gruppe_B = [],[]\n",
    "for i in testdata:\n",
    "    if    i[len(i)-1] == 'A':\n",
    "        gruppe_A.append(i[:-1])\n",
    "    elif  i[len(i)-1] == 'B':\n",
    "        gruppe_B.append(i[:-1])\n",
    "    else:\n",
    "        continue\n",
    "gruppe_A = np.asarray(gruppe_A).T\n",
    "gruppe_B = np.asarray(gruppe_B).T\n",
    "print(gruppe_A)\n",
    "print(gruppe_B)"
   ]
  },
  {
   "cell_type": "code",
   "execution_count": 196,
   "metadata": {
    "collapsed": false
   },
   "outputs": [
    {
     "name": "stdout",
     "output_type": "stream",
     "text": [
      "['Utadventhet', 'Flyte-evne', 'Dyrevern', 'Sjonglering']\n"
     ]
    }
   ],
   "source": [
    "#Henter ut hvilke dimensjoner vi jobber i (altså personlighetstrekk)\n",
    "dimensjoner = []\n",
    "for i in testdata[0]:\n",
    "    dimensjoner.append(i)\n",
    "dimensjoner = dimensjoner[:-1]\n",
    "print(dimensjoner)"
   ]
  },
  {
   "cell_type": "code",
   "execution_count": 197,
   "metadata": {
    "collapsed": false
   },
   "outputs": [
    {
     "name": "stdout",
     "output_type": "stream",
     "text": [
      "{'Sjonglering': [array(['10', '5', '10', '2', '6', '5'], \n",
      "      dtype='<U11'), array(['2', '9', '7', '3', '8', '2'], \n",
      "      dtype='<U11')], 'Flyte-evne': [array(['2', '1', '7', '1', '10', '3'], \n",
      "      dtype='<U11'), array(['9', '4', '9', '4', '5', '6'], \n",
      "      dtype='<U11')], 'Utadventhet': [array(['3', '4', '9', '9', '1', '7'], \n",
      "      dtype='<U11'), array(['7', '5', '6', '2', '8', '8'], \n",
      "      dtype='<U11')], 'Dyrevern': [array(['1', '8', '5', '10', '8', '2'], \n",
      "      dtype='<U11'), array(['7', '2', '10', '1', '8', '1'], \n",
      "      dtype='<U11')]}\n"
     ]
    }
   ],
   "source": [
    "# Denne setter sammen disse to datastrukturene til en felles, som inneholder personlighetstrekket, fulgt av resultatene fra\n",
    "# de enkelte gruppene.\n",
    "grunnlag = {}\n",
    "for j in range(0,len(dimensjoner)):\n",
    "    grunnlag[dimensjoner[j]] = [gruppe_A[j],gruppe_B[j]]\n",
    "print(grunnlag)"
   ]
  },
  {
   "cell_type": "code",
   "execution_count": 198,
   "metadata": {
    "collapsed": false
   },
   "outputs": [
    {
     "name": "stdout",
     "output_type": "stream",
     "text": [
      "Resultater, dimensjon Sjonglering\n",
      "Mann-Whitney U-verdien for gruppene er: 14.0\n",
      "P-verdien for resultatet antatt en normalfordeling er: 0.285553636021\n",
      "P-verdien er ikke lav nok til å avvise nullhypotesen.\n",
      "\n",
      "\n",
      "Resultater, dimensjon Flyte-evne\n",
      "Mann-Whitney U-verdien for gruppene er: 10.0\n",
      "P-verdien for resultatet antatt en normalfordeling er: 0.113656411443\n",
      "P-verdien er ikke lav nok til å avvise nullhypotesen.\n",
      "\n",
      "\n",
      "Resultater, dimensjon Utadventhet\n",
      "Mann-Whitney U-verdien for gruppene er: 17.5\n",
      "P-verdien for resultatet antatt en normalfordeling er: 0.5\n",
      "P-verdien er ikke lav nok til å avvise nullhypotesen.\n",
      "\n",
      "\n",
      "Resultater, dimensjon Dyrevern\n",
      "Mann-Whitney U-verdien for gruppene er: 15.0\n",
      "P-verdien for resultatet antatt en normalfordeling er: 0.341817445467\n",
      "P-verdien er ikke lav nok til å avvise nullhypotesen.\n",
      "\n",
      "\n"
     ]
    }
   ],
   "source": [
    "# Her gjennomfører vi Mann-Whitney U-test for hver dimensjon, og skriver ut en liten sak. Dersom p_verdi er mindre enn\n",
    "# 0.05, får du melding om at P-verdien er lav nok til at funnet er signifikant. .05 var bare en gjetning fra min side, kan endres.\n",
    "for i in grunnlag:\n",
    "    U,p_verdi = stats.mannwhitneyu(grunnlag[i][0],grunnlag[i][1],use_continuity=True)\n",
    "    print(\"Resultater, dimensjon \" + str(i))\n",
    "    print(\"Mann-Whitney U-verdien for gruppene er: \" + str(U))\n",
    "    print(\"P-verdien for resultatet antatt en normalfordeling er: \" + str(p_verdi))\n",
    "    if p_verdi <= 0.05:\n",
    "        print(\"P-verdien er lav nok til å avvise nullhypotesen.\")\n",
    "    else:\n",
    "        print(\"P-verdien er ikke lav nok til å avvise nullhypotesen.\")\n",
    "    print(\"\\n\")"
   ]
  },
  {
   "cell_type": "code",
   "execution_count": 200,
   "metadata": {
    "collapsed": true
   },
   "outputs": [],
   "source": [
    "import matplotlib\n",
    "from collections import Counter"
   ]
  },
  {
   "cell_type": "code",
   "execution_count": 183,
   "metadata": {
    "collapsed": false
   },
   "outputs": [
    {
     "data": {
      "text/plain": [
       "'import matplotlib.pyplot as plt\\n\\nfrom collections import Counter\\n\\nincrement = 1\\n\\nwidth= .25\\n\\ntown1_bucketted = map(lambda ammt: ammt ‐ ammt%increment, town1_heights)\\n\\ntown2_bucketted = map(lambda ammt: ammt ‐ ammt%increment + width, town2_heights)\\n\\ntown1_hist = Counter(town1_bucketted)\\n\\ntown2_hist = Counter(town2_bucketted)\\n\\nminamount = min(min(town1_heights), min(town2_heights))\\n\\nmaxamount = max(max(town1_heights), max(town2_heights))\\n\\nbuckets = range(int(minamount), int(maxamount)+1, increment)\\n\\nfig = plt.figure()\\n\\nsub = fig.add_subplot(111)\\n\\nsub.bar(town1_hist.keys(), town1_hist.values(), color=\\'b\\', width=width, label=\"town 1\")\\n\\nsub.bar(town2_hist.keys(), town2_hist.values(), color=\\'r\\', width=width, label=\"town 2\")\\n\\nsub.legend()\\n\\nplt.savefig(\\'figures/town_histograms.png\\', format=\\'png\\')'"
      ]
     },
     "execution_count": 183,
     "metadata": {},
     "output_type": "execute_result"
    }
   ],
   "source": [
    "\"\"\"import matplotlib.pyplot as plt\n",
    "\n",
    "from collections import Counter\n",
    "\n",
    "increment = 1\n",
    "\n",
    "width= .25\n",
    "\n",
    "town1_bucketted = map(lambda ammt: ammt ‐ ammt%increment, town1_heights)\n",
    "\n",
    "town2_bucketted = map(lambda ammt: ammt ‐ ammt%increment + width, town2_heights)\n",
    "\n",
    "town1_hist = Counter(town1_bucketted)\n",
    "\n",
    "town2_hist = Counter(town2_bucketted)\n",
    "\n",
    "minamount = min(min(town1_heights), min(town2_heights))\n",
    "\n",
    "maxamount = max(max(town1_heights), max(town2_heights))\n",
    "\n",
    "buckets = range(int(minamount), int(maxamount)+1, increment)\n",
    "\n",
    "fig = plt.figure()\n",
    "\n",
    "sub = fig.add_subplot(111)\n",
    "\n",
    "sub.bar(town1_hist.keys(), town1_hist.values(), color='b', width=width, label=\"town 1\")\n",
    "\n",
    "sub.bar(town2_hist.keys(), town2_hist.values(), color='r', width=width, label=\"town 2\")\n",
    "\n",
    "sub.legend()\n",
    "\n",
    "plt.savefig('figures/town_histograms.png', format='png')\"\"\""
   ]
  },
  {
   "cell_type": "code",
   "execution_count": 201,
   "metadata": {
    "collapsed": false
   },
   "outputs": [],
   "source": [
    "%matplotlib inline\n",
    "def plotdimension(i):\n",
    "    gruppe_A_bucketted = map(lambda ammt: float(ammt) - float(ammt)%1, gruppe_A[i])\n",
    "    gruppe_B_bucketted = map(lambda ammt: float(ammt) - float(ammt)%1, gruppe_B[i])\n",
    "\n",
    "    gruppe_A_hist = Counter(gruppe_A_bucketted)\n",
    "    gruppe_B_hist = Counter(gruppe_B_bucketted)\n",
    "\n",
    "    minmengde = 0\n",
    "    maxmengde = 10\n",
    "\n",
    "    buckets = range(int(minmengde),int(maxmengde)+1, 1)\n",
    "\n",
    "    figur = matplotlib.pyplot.figure()\n",
    "    sub = figur.add_subplot(111)\n",
    "    sub.bar(gruppe_A_hist.keys(),gruppe_A_hist.values(), color = 'b', width = 1, label = 'Gruppe A')\n",
    "    sub.bar(gruppe_B_hist.keys(),gruppe_B_hist.values(), color = 'r', width = 1, label = 'Gruppe B')\n",
    "    sub.legend()\n",
    "    "
   ]
  },
  {
   "cell_type": "code",
   "execution_count": 202,
   "metadata": {
    "collapsed": false
   },
   "outputs": [
    {
     "data": {
      "image/png": "[encoded data removed]",
      "text/plain": [
       "<matplotlib.figure.Figure at 0x1ac77897a20>"
      ]
     },
     "metadata": {},
     "output_type": "display_data"
    },
    {
     "data": {
      "image/png": "[encoded data removed]",
      "text/plain": [
       "<matplotlib.figure.Figure at 0x1ac775a8ba8>"
      ]
     },
     "metadata": {},
     "output_type": "display_data"
    },
    {
     "data": {
      "image/png": "[encoded data removed]",
      "text/plain": [
       "<matplotlib.figure.Figure at 0x1ac79368ba8>"
      ]
     },
     "metadata": {},
     "output_type": "display_data"
    },
    {
     "data": {
      "image/png": "[encoded data removed]",
      "text/plain": [
       "<matplotlib.figure.Figure at 0x1ac7922ae48>"
      ]
     },
     "metadata": {},
     "output_type": "display_data"
    }
   ],
   "source": [
    "for i in range(4):\n",
    "    plotdimension(i)"
   ]
  },
  {
   "cell_type": "code",
   "execution_count": null,
   "metadata": {
    "collapsed": true
   },
   "outputs": [],
   "source": []
  }
 ],
 "metadata": {
  "kernelspec": {
   "display_name": "Python 3",
   "language": "python",
   "name": "python3"
  },
  "language_info": {
   "codemirror_mode": {
    "name": "ipython",
    "version": 3
   },
   "file_extension": ".py",
   "mimetype": "text/x-python",
   "name": "python",
   "nbconvert_exporter": "python",
   "pygments_lexer": "ipython3",
   "version": "3.5.2"
  }
 },
 "nbformat": 4,
 "nbformat_minor": 0
}
