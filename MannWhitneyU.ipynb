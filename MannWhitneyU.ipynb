{
 "cells": [
  {
   "cell_type": "code",
   "execution_count": 31,
   "metadata": {
    "collapsed": false
   },
   "outputs": [],
   "source": [
    "from scipy import stats\n",
    "# fra pakken stats får vi funksjonen MannWhitneyU\n",
    "from numpy import array\n",
    "# Array, eller matrise på norsk, er datatypen MannWhitneyU-funksjonen spiser\n",
    "from numpy import random\n",
    "# Random er ikke nødvendig for sluttkoden, men brukes her for å generere testdata"
   ]
  },
  {
   "cell_type": "code",
   "execution_count": 32,
   "metadata": {
    "collapsed": false
   },
   "outputs": [
    {
     "name": "stdout",
     "output_type": "stream",
     "text": [
      "Gruppe 1: [ 0.23520495  0.73745807  0.37041415  0.43417552  0.04617335]\n",
      "Gruppe 2: [ 0.40805454  0.88030217  0.48268736  0.05163964  0.08424955]\n"
     ]
    }
   ],
   "source": [
    "Gruppe_1 = random.rand(5)\n",
    "Gruppe_2 = random.rand(5)\n",
    "# Lager to matriser kalt Gruppe_1 og Gruppe_2 med tilfeldige tall\n",
    "\n",
    "print(\"Gruppe 1: \" + str(Gruppe_1))\n",
    "print(\"Gruppe 2: \" + str(Gruppe_2))"
   ]
  },
  {
   "cell_type": "code",
   "execution_count": 33,
   "metadata": {
    "collapsed": false
   },
   "outputs": [],
   "source": [
    "\"\"\"Så kommer vi til hoved-delen av funksjonen. Denne tar inn Gruppe_1 og Gruppe_2\"\"\"\n",
    "\n",
    "U,p_verdi = stats.mannwhitneyu(Gruppe_1,Gruppe_2,use_continuity = True)"
   ]
  },
  {
   "cell_type": "code",
   "execution_count": 34,
   "metadata": {
    "collapsed": false
   },
   "outputs": [
    {
     "name": "stdout",
     "output_type": "stream",
     "text": [
      "Mann-Whitney U-verdien for gruppene er: 11.0\n",
      "P-verdien for resultatet antatt en normalfordeling er: 0.417265811355\n"
     ]
    }
   ],
   "source": [
    "print(\"Mann-Whitney U-verdien for gruppene er: \" + str(U))\n",
    "print(\"P-verdien for resultatet antatt en normalfordeling er: \" + str(p_verdi))"
   ]
  },
  {
   "cell_type": "markdown",
   "metadata": {},
   "source": [
    "Denne koden lar deg teste ett av personlighetstrekkene opp mot et annet. Alt du trenger å gjøre er å lage en matrise som heter Gruppe_1 manuelt. La oss si Gruppe 1 scoret 5.3, 7.4, og 5.4. Koden blir da:\n",
    "\n",
    "Gruppe_1 = array([5.3,7.4,5.4])\n",
    "\n",
    "Husk at Mann-Whitney testen trenger arrrays av samme størrelse, altså like mange responser.\n",
    "\n",
    "La oss, for moro skyld, utvide dette til en matrise, der kolonnene er spørsmål, og radene er individer."
   ]
  },
  {
   "cell_type": "code",
   "execution_count": 60,
   "metadata": {
    "collapsed": false
   },
   "outputs": [
    {
     "name": "stdout",
     "output_type": "stream",
     "text": [
      "Gruppe 1: \n",
      "[[ 1.34530483  2.80527894  4.35583626  3.40181378  0.11423264  3.21889512\n",
      "   2.03866282]\n",
      " [ 0.47016264  3.10469751  1.5087374   2.35610785  1.00430818  1.93484382\n",
      "   4.06276739]\n",
      " [ 2.23198425  2.34178107  0.26682896  3.29923845  1.48034897  0.67042614\n",
      "   4.77171412]\n",
      " [ 4.98814252  1.64075003  0.56271682  0.75517175  4.64442214  3.69977767\n",
      "   3.81100035]\n",
      " [ 0.33851548  0.47120451  0.35187625  0.60865671  3.01543596  3.35580428\n",
      "   3.91028593]\n",
      " [ 1.69166658  2.76705669  1.69318835  3.30175659  3.17210519  1.31410589\n",
      "   1.87241315]]\n",
      "Gruppe 2: \n",
      "[[ 4.02294393  3.40860144  0.94080286  2.72891137  3.58142954  1.98729431\n",
      "   4.69279692]\n",
      " [ 0.92236115  2.25157314  0.51198997  0.52254921  1.75117109  2.83446593\n",
      "   2.42976762]\n",
      " [ 1.29466557  3.11419264  2.09245022  0.36140274  3.30850607  3.33124632\n",
      "   2.55637024]\n",
      " [ 0.07818535  1.23149051  2.14406845  1.07511157  3.8480882   1.64282429\n",
      "   0.98516304]\n",
      " [ 1.98387348  0.64830278  0.7898025   2.07037452  1.95457784  2.85342876\n",
      "   3.06022089]\n",
      " [ 0.57184566  3.98804994  0.80968493  2.12535295  0.5990294   2.68550784\n",
      "   0.51237553]]\n"
     ]
    }
   ],
   "source": [
    "# Det vil se slik ut.\n",
    "\n",
    "Multi_Gruppe_1 = random.rand(6,7)\n",
    "Multi_Gruppe_2 = random.rand(6,7)\n",
    "\n",
    "Multi_Gruppe_1 = Multi_Gruppe_1 * 5\n",
    "Multi_Gruppe_2 = Multi_Gruppe_2 * 5\n",
    "\n",
    "print(\"Gruppe 1: \\n\" + str(Multi_Gruppe_1))\n",
    "print(\"Gruppe 2: \\n\" + str(Multi_Gruppe_2))\n",
    "\n",
    "# Når du får ordentlige data, kan vi gjøre de om til denne typen matrise."
   ]
  },
  {
   "cell_type": "code",
   "execution_count": 61,
   "metadata": {
    "collapsed": false
   },
   "outputs": [],
   "source": [
    "# Gjør litt magi med matrisene så de ender opp som en liste med par av kollonner. Altså første element i lista er kollonne 1 fra gruppe 1 og 2\n",
    "\n",
    "kollonner_gruppe_1 = Multi_Gruppe_1.T.tolist()\n",
    "kollonner_gruppe_2 = Multi_Gruppe_2.T.tolist()\n",
    "sammenslaatt = list(zip(kollonner_gruppe_1,kollonner_gruppe_2))"
   ]
  },
  {
   "cell_type": "code",
   "execution_count": 62,
   "metadata": {
    "collapsed": false
   },
   "outputs": [
    {
     "name": "stdout",
     "output_type": "stream",
     "text": [
      "Resultater, kollonne 1\n",
      "Mann-Whitney U-verdien for gruppene er: 15.0\n",
      "P-verdien for resultatet antatt en normalfordeling er: 0.344460277902\n",
      "\n",
      "\n",
      "Resultater, kollonne 2\n",
      "Mann-Whitney U-verdien for gruppene er: 14.0\n",
      "P-verdien for resultatet antatt en normalfordeling er: 0.28758676596\n",
      "\n",
      "\n",
      "Resultater, kollonne 3\n",
      "Mann-Whitney U-verdien for gruppene er: 15.0\n",
      "P-verdien for resultatet antatt en normalfordeling er: 0.344460277902\n",
      "\n",
      "\n",
      "Resultater, kollonne 4\n",
      "Mann-Whitney U-verdien for gruppene er: 9.0\n",
      "P-verdien for resultatet antatt en normalfordeling er: 0.0867427341607\n",
      "\n",
      "\n",
      "Resultater, kollonne 5\n",
      "Mann-Whitney U-verdien for gruppene er: 14.0\n",
      "P-verdien for resultatet antatt en normalfordeling er: 0.28758676596\n",
      "\n",
      "\n",
      "Resultater, kollonne 6\n",
      "Mann-Whitney U-verdien for gruppene er: 18.0\n",
      "P-verdien for resultatet antatt en normalfordeling er: 0.468093146737\n",
      "\n",
      "\n",
      "Resultater, kollonne 7\n",
      "Mann-Whitney U-verdien for gruppene er: 11.0\n",
      "P-verdien for resultatet antatt en normalfordeling er: 0.148976530804\n",
      "\n",
      "\n"
     ]
    }
   ],
   "source": [
    "# Denne cellen går gjennom alle kollonnene, og skriver ut resultatet av Mann-Whitney\n",
    "i = 1\n",
    "for par in sammenslaatt:\n",
    "    U,p_verdi = stats.mannwhitneyu(par[0],par[1],use_continuity=True)\n",
    "    print(\"Resultater, kollonne \" + str(i))\n",
    "    print(\"Mann-Whitney U-verdien for gruppene er: \" + str(U))\n",
    "    print(\"P-verdien for resultatet antatt en normalfordeling er: \" + str(p_verdi))\n",
    "    print(\"\\n\")\n",
    "    i=i+1"
   ]
  },
  {
   "cell_type": "code",
   "execution_count": null,
   "metadata": {
    "collapsed": false
   },
   "outputs": [],
   "source": []
  },
  {
   "cell_type": "code",
   "execution_count": null,
   "metadata": {
    "collapsed": true
   },
   "outputs": [],
   "source": []
  },
  {
   "cell_type": "code",
   "execution_count": null,
   "metadata": {
    "collapsed": true
   },
   "outputs": [],
   "source": []
  }
 ],
 "metadata": {
  "kernelspec": {
   "display_name": "Python 3",
   "language": "python",
   "name": "python3"
  },
  "language_info": {
   "codemirror_mode": {
    "name": "ipython",
    "version": 3
   },
   "file_extension": ".py",
   "mimetype": "text/x-python",
   "name": "python",
   "nbconvert_exporter": "python",
   "pygments_lexer": "ipython3",
   "version": "3.5.2"
  }
 },
 "nbformat": 4,
 "nbformat_minor": 0
}
