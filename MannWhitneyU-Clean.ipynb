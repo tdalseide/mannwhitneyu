{
 "cells": [
  {
   "cell_type": "code",
   "execution_count": 1,
   "metadata": {
    "collapsed": false
   },
   "outputs": [],
   "source": [
    "# Litt administrativt\n",
    "\n",
    "from scipy import stats     #scipy sin statistikkpakke gir oss funksjonen \n",
    "                            # for å regne Mann-Whitney U-test\n",
    "\n",
    "import numpy as np          #numpy er nødvendig for å regne med matriser"
   ]
  },
  {
   "cell_type": "code",
   "execution_count": 2,
   "metadata": {
    "collapsed": false
   },
   "outputs": [
    {
     "data": {
      "text/html": [
       "<style>\n",
       "table {float:left}\n",
       "</style>"
      ],
      "text/plain": [
       "<IPython.core.display.HTML object>"
      ]
     },
     "metadata": {},
     "output_type": "display_data"
    }
   ],
   "source": [
    "%%html                      \n",
    "<style>\n",
    "table {float:left}\n",
    "</style>"
   ]
  },
  {
   "cell_type": "code",
   "execution_count": 3,
   "metadata": {
    "collapsed": true
   },
   "outputs": [],
   "source": [
    "# Definerer en funksjon som gjennomfører Mann-Whitney U-test for en gitt\n",
    "# dimensjon og dens tilhørende data, og returnerer noen setninger om resultatet. \n",
    "# Dersom p_verdi er mindre eller lik enn tallet angitt som toleranse, får du melding\n",
    "# om at P-verdien er lav nok til at funnet er signifikant.\n",
    "\n",
    "def MWU_Test(dimensjon, data, toleranse):\n",
    "    U,p_verdi = stats.mannwhitneyu(data[0],data[1],use_continuity=True)\n",
    "    output   =   [\"Resultater, dimensjon \" + str(dimensjon)]\n",
    "    output.append(\"Mann-Whitney U-verdien for gruppene er: \" + str(U))\n",
    "    output.append(\"P-verdien for resultatet antatt en normalfordeling er: \" + \"%.2f\" % p_verdi + \n",
    "                      \" sett opp mot en toleranse på \" + str(toleranse))\n",
    "    if p_verdi <= toleranse:\n",
    "        output.append(\"P-verdien er lav nok til å avvise nullhypotesen.\")\n",
    "    else:\n",
    "        output.append(\"P-verdien er ikke lav nok til å avvise nullhypotesen.\")\n",
    "    output.append('\\n')\n",
    "    return output"
   ]
  },
  {
   "cell_type": "markdown",
   "metadata": {},
   "source": [
    "Her laster vi inn data fra CSV. Vår testfil heter nytestdata.csv og ligger i katalogen sammen med scriptet. Det er i bunn og grunn en tekstfil, som ser slik ut:"
   ]
  },
  {
   "cell_type": "markdown",
   "metadata": {},
   "source": [
    "|Utadventhet| Flyte-evne | Dyrevern | Sjonglering | Populasjon|\n",
    "|-----------|------------|----------|-------------|-----------|\n",
    "|    3      |     2      |    1     |     10      |     A     |\n",
    "| 5 | 4 | 2 | 9 | B |\n",
    "| 9 | 7 | 5 | 10 | A |\n",
    "| 6 | 9 | 10 | 7 | B |\n",
    "| 9 | 1 | 10 | 2 | A |\n",
    "| 2 | 4 | 1 | 3 | B |\n",
    "| 1 | 10 | 8 | 6 | A |\n",
    "| 8 | 5 | 8 | 8 | B |\n",
    "| 7 | 3 | 2 | 5 | A |\n",
    "| 8 | 6 | 1 | 2 | B |"
   ]
  },
  {
   "cell_type": "markdown",
   "metadata": {},
   "source": [
    "Jeg har laget et par egne personlighetsdimensjoner, som jeg mener kan være flotte prediktorer. Den siste kollonnen setter en kandidat i enten gruppe A eller gruppe B."
   ]
  },
  {
   "cell_type": "code",
   "execution_count": 4,
   "metadata": {
    "collapsed": false
   },
   "outputs": [],
   "source": [
    "# importerer data fra tekstfil\n",
    "testdata = np.genfromtxt('nytestdata.csv',delimiter=',',dtype='str')"
   ]
  },
  {
   "cell_type": "code",
   "execution_count": 5,
   "metadata": {
    "collapsed": false,
    "scrolled": true
   },
   "outputs": [],
   "source": [
    "#splitter dataene mellom gruppe A og B, samt fjerner merkingen av gruppetilhørighet.\n",
    "gruppe_A = np.asarray([x[:-1] for x in testdata if x[-1]=='A']).T\n",
    "gruppe_B = np.asarray([x[:-1] for x in testdata if x[-1]=='B']).T\n",
    "\n",
    "#Henter ut hvilke dimensjoner vi jobber i (altså personlighetstrekk)\n",
    "dimensjoner = list(testdata[0][:-1])\n",
    "\n",
    "# Denne setter sammen disse to datastrukturene til en felles, som inneholder personlighetstrekket, fulgt av resultatene fra\n",
    "# de enkelte gruppene.\n",
    "\n",
    "grunnlag = dict(zip(dimensjoner,list(zip(gruppe_A,gruppe_B))))\n"
   ]
  },
  {
   "cell_type": "code",
   "execution_count": 6,
   "metadata": {
    "collapsed": false
   },
   "outputs": [
    {
     "name": "stdout",
     "output_type": "stream",
     "text": [
      "Resultater, dimensjon Utadventhet\n",
      "Mann-Whitney U-verdien for gruppene er: 17.5\n",
      "P-verdien for resultatet antatt en normalfordeling er: 0.50 sett opp mot en toleranse på 0.05\n",
      "P-verdien er ikke lav nok til å avvise nullhypotesen.\n",
      "\n",
      "\n",
      "Resultater, dimensjon Sjonglering\n",
      "Mann-Whitney U-verdien for gruppene er: 14.0\n",
      "P-verdien for resultatet antatt en normalfordeling er: 0.29 sett opp mot en toleranse på 0.05\n",
      "P-verdien er ikke lav nok til å avvise nullhypotesen.\n",
      "\n",
      "\n",
      "Resultater, dimensjon Flyte-evne\n",
      "Mann-Whitney U-verdien for gruppene er: 10.0\n",
      "P-verdien for resultatet antatt en normalfordeling er: 0.11 sett opp mot en toleranse på 0.05\n",
      "P-verdien er ikke lav nok til å avvise nullhypotesen.\n",
      "\n",
      "\n",
      "Resultater, dimensjon Dyrevern\n",
      "Mann-Whitney U-verdien for gruppene er: 15.0\n",
      "P-verdien for resultatet antatt en normalfordeling er: 0.34 sett opp mot en toleranse på 0.05\n",
      "P-verdien er ikke lav nok til å avvise nullhypotesen.\n",
      "\n",
      "\n"
     ]
    }
   ],
   "source": [
    "# Lager en liste over resultatene av MWU-testene for alle dimensjoner\n",
    "alle_resultater = [MWU_Test(dimensjon,data,0.05) for dimensjon,data in grunnlag.items()]\n",
    "\n",
    "#Skriver ut alle resultatene. Det er også mulig å skrive disse til fil.\n",
    "\n",
    "for dimensjoner in alle_resultater:\n",
    "    for resultater in dimensjoner:\n",
    "        print(resultater)"
   ]
  },
  {
   "cell_type": "code",
   "execution_count": null,
   "metadata": {
    "collapsed": true
   },
   "outputs": [],
   "source": []
  }
 ],
 "metadata": {
  "kernelspec": {
   "display_name": "Python 3",
   "language": "python",
   "name": "python3"
  },
  "language_info": {
   "codemirror_mode": {
    "name": "ipython",
    "version": 3
   },
   "file_extension": ".py",
   "mimetype": "text/x-python",
   "name": "python",
   "nbconvert_exporter": "python",
   "pygments_lexer": "ipython3",
   "version": "3.5.2"
  }
 },
 "nbformat": 4,
 "nbformat_minor": 0
}
