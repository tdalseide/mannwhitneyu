{
 "cells": [
  {
   "cell_type": "code",
   "execution_count": 105,
   "metadata": {
    "collapsed": false
   },
   "outputs": [],
   "source": [
    "from scipy import stats     #scipy sin statistikkpakke gir oss funksjonen for å regne Mann-Whitney U-test\n",
    "import numpy as np          #numpy er nødvendig for å regne med matriser"
   ]
  },
  {
   "cell_type": "code",
   "execution_count": 106,
   "metadata": {
    "collapsed": true
   },
   "outputs": [],
   "source": [
    "# Definerer en funksjon som gjennomfører Mann-Whitney U-test for en gitt dimensjon og dens tilhørende data,\n",
    "# og returnerer noen setninger om resultatet. Dersom p_verdi er mindre eller lik enn tallet angitt som toleranse, får du melding\n",
    "# om at P-verdien er lav nok til at funnet er signifikant.\n",
    "def MWU_Test(dimensjon, data, toleranse):\n",
    "    U,p_verdi = stats.mannwhitneyu(data[0],data[1],use_continuity=True)\n",
    "    output   =   [\"Resultater, dimensjon \" + str(dimensjon)]\n",
    "    output.append(\"Mann-Whitney U-verdien for gruppene er: \" + str(U))\n",
    "    output.append(\"P-verdien for resultatet antatt en normalfordeling er: \" + \"%.2f\" % p_verdi + \n",
    "                      \" sett opp mot en toleranse på \" + str(toleranse))\n",
    "    if p_verdi <= toleranse:\n",
    "        output.append(\"P-verdien er lav nok til å avvise nullhypotesen.\")\n",
    "    else:\n",
    "        output.append(\"P-verdien er ikke lav nok til å avvise nullhypotesen.\")\n",
    "    output.append('\\n')\n",
    "    return output"
   ]
  },
  {
   "cell_type": "markdown",
   "metadata": {},
   "source": [
    "Her laster vi inn data fra CSV. Vår testfil heter nytestdata.csv og ligger i katalogen sammen med scriptet. Det er i bunn og grunn en tekstfil, som ser slik ut:\n",
    "\n",
    "|Utadventhet| Flyte-evne | Dyrevern | Sjonglering | Populasjon|\n",
    "|-----------|------------|----------|-------------|-----------|\n",
    "|    3      |     2      |    1     |     10      |     A     |\n",
    "| 5 | 4 | 2 | 9 | B |\n",
    "| 9 | 7 | 5 | 10 | A |\n",
    "| 6 | 9 | 10 | 7 | B |\n",
    "| 9 | 1 | 10 | 2 | A |\n",
    "| 2 | 4 | 1 | 3 | B |\n",
    "| 1 | 10 | 8 | 6 | A |\n",
    "| 8 | 5 | 8 | 8 | B |\n",
    "| 7 | 3 | 2 | 5 | A |\n",
    "| 8 | 6 | 1 | 2 | B |\n",
    "\n",
    "Jeg har laget et par egne personlighetsdimensjoner, som jeg mener kan være flotte prediktorer. Den siste kollonnen setter en kandidat i enten gruppe A eller gruppe B.\n"
   ]
  },
  {
   "cell_type": "code",
   "execution_count": 107,
   "metadata": {
    "collapsed": false
   },
   "outputs": [],
   "source": [
    "# importerer data fra tekstfil\n",
    "testdata = np.genfromtxt('nytestdata.csv',delimiter=',',dtype='str')"
   ]
  },
  {
   "cell_type": "code",
   "execution_count": 110,
   "metadata": {
    "collapsed": false,
    "scrolled": true
   },
   "outputs": [],
   "source": [
    "#splitter dataene mellom gruppe A og B, samt fjerner merkingen av gruppetilhørighet.\n",
    "gruppe_A = np.asarray([x[:-1] for x in testdata if x[-1]=='A']).T\n",
    "gruppe_B = np.asarray([x[:-1] for x in testdata if x[-1]=='B']).T\n",
    "\n",
    "#Henter ut hvilke dimensjoner vi jobber i (altså personlighetstrekk)\n",
    "dimensjoner = list(testdata[0][:-1])\n",
    "\n",
    "# Denne setter sammen disse to datastrukturene til en felles, som inneholder personlighetstrekket, fulgt av resultatene fra\n",
    "# de enkelte gruppene.\n",
    "\n",
    "grunnlag = dict(zip(dimensjoner,list(zip(gruppe_A,gruppe_B))))\n"
   ]
  },
  {
   "cell_type": "code",
   "execution_count": 109,
   "metadata": {
    "collapsed": false
   },
   "outputs": [
    {
     "name": "stdout",
     "output_type": "stream",
     "text": [
      "Resultater, dimensjon Sjonglering\n",
      "Mann-Whitney U-verdien for gruppene er: 14.0\n",
      "P-verdien for resultatet antatt en normalfordeling er: 0.29 sett opp mot en toleranse på 0.05\n",
      "P-verdien er ikke lav nok til å avvise nullhypotesen.\n",
      "\n",
      "\n",
      "Resultater, dimensjon Dyrevern\n",
      "Mann-Whitney U-verdien for gruppene er: 15.0\n",
      "P-verdien for resultatet antatt en normalfordeling er: 0.34 sett opp mot en toleranse på 0.05\n",
      "P-verdien er ikke lav nok til å avvise nullhypotesen.\n",
      "\n",
      "\n",
      "Resultater, dimensjon Utadventhet\n",
      "Mann-Whitney U-verdien for gruppene er: 17.5\n",
      "P-verdien for resultatet antatt en normalfordeling er: 0.50 sett opp mot en toleranse på 0.05\n",
      "P-verdien er ikke lav nok til å avvise nullhypotesen.\n",
      "\n",
      "\n",
      "Resultater, dimensjon Flyte-evne\n",
      "Mann-Whitney U-verdien for gruppene er: 10.0\n",
      "P-verdien for resultatet antatt en normalfordeling er: 0.11 sett opp mot en toleranse på 0.05\n",
      "P-verdien er ikke lav nok til å avvise nullhypotesen.\n",
      "\n",
      "\n"
     ]
    }
   ],
   "source": [
    "alle_resultater = []\n",
    "for k, v in grunnlag.items():\n",
    "    alle_resultater.append((list(MWU_Test(k,v,0.05))))\n",
    "\n",
    "for dimensjoner in alle_resultater:\n",
    "    for resultater in dimensjoner:\n",
    "        print(resultater)"
   ]
  }
 ],
 "metadata": {
  "kernelspec": {
   "display_name": "Python 3",
   "language": "python",
   "name": "python3"
  },
  "language_info": {
   "codemirror_mode": {
    "name": "ipython",
    "version": 3
   },
   "file_extension": ".py",
   "mimetype": "text/x-python",
   "name": "python",
   "nbconvert_exporter": "python",
   "pygments_lexer": "ipython3",
   "version": "3.5.2"
  }
 },
 "nbformat": 4,
 "nbformat_minor": 0
}
